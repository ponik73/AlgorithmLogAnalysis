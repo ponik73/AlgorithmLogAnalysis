{
 "cells": [
  {
   "cell_type": "markdown",
   "metadata": {},
   "source": [
    "# Projekt MSP1\n",
    "Cílem tohoto projektu je se seznámit s programovými nástroji využívaných ve statistice a osvojit si základní procedury. Projekt není primárně zaměřen na efektivitu využívání programového vybavení (i když úplně nevhodné konstrukce mohou mít vliv na hodnocení), ale nejvíce nás zajímají vaše statistické závěry a způsob vyhodnocení. Dbejte také na to, že každý graf musí splňovat nějaké podmínky - přehlednost, čitelnost, popisky.\n",
    "\n",
    "V projektu budete analyzovat časy běhu šesti různých konfigurací algoritmů. Ke každé konfiguraci vzniklo celkem 200 nezávislých běhů, jejichž logy máte k dispozici v souboru [logfiles.zip](logfiles.zip).\n",
    "\n",
    "Pokud nemáte rozchozené prostředí pro pro spouštění Jupyter notebooku, můžete využití službu [Google Colab](https://colab.google/). Jakákoliv spolupráce, sdílení řešení a podobně je zakázána!\n",
    "\n",
    "S případnými dotazy se obracejte na Vojtěcha Mrázka (mrazek@fit.vutbr.cz).\n",
    "\n",
    "__Odevzdání:__ tento soubor (není potřeba aby obsahoval výstupy skriptů) do neděle 22. 10. 2023 v IS VUT. Kontrola bude probíhat na Pythonu 3.10.12; neočekává se však to, že byste používali nějaké speciality a nekompatibilní knihovny. V případě nesouladu verzí a podobných problémů budete mít možnost reklamace a prokázání správnosti funkce. Bez vyplnění vašich komentářů a závěrů do označených buněk nebude projekt hodnocen!\n",
    "\n",
    "__Upozornění:__ nepřidávejte do notebooku další buňky, odpovídejte tam, kam se ptáme (textové komentáře do Markdown buněk)\n",
    "\n",
    "__Tip:__ před odevzdáním resetujte celý notebook a zkuste jej spustit od začátku. Zamezíte tak chybám krokování a editací, kdy výsledek z buňky na konci použijete na začátku."
   ]
  },
  {
   "cell_type": "markdown",
   "metadata": {},
   "source": [
    "__OTÁZKA K DOPLNĚNÍ:__\n",
    "\n",
    "_Jméno a login autora_\n",
    "\n",
    "Jakub Kasem xkasem02"
   ]
  },
  {
   "cell_type": "markdown",
   "metadata": {},
   "source": [
    "## Načtení potřebných knihoven\n",
    "Načtěte knihovny, které jsou nutné pro zpracování souborů a práci se statistickými funkcemi. Není dovoleno načítat jiné knihovny."
   ]
  },
  {
   "cell_type": "code",
   "execution_count": null,
   "metadata": {},
   "outputs": [],
   "source": [
    "import numpy as np\n",
    "import pandas as pd\n",
    "import matplotlib.pyplot as plt\n",
    "import scipy.stats as stats\n",
    "import seaborn as sns\n",
    "from zipfile import ZipFile"
   ]
  },
  {
   "cell_type": "markdown",
   "metadata": {},
   "source": [
    "## Načtení dat do DataFrame\n",
    "Ze souboru `logfiles.zip` umístěném ve stejném adresáři načtěte data a vytvořte Pandas DataFrame.\n",
    "\n",
    "Z logu vás budou nejvíce zajímat řádky\n",
    "```\n",
    "Configuration: config6\n",
    "Run: 191\n",
    "Time of run: 53.298725254089774\n",
    "```\n",
    "\n",
    "Můžete využít následující kostru - je vhodné pracovat přímo se ZIP souborem. Jedinou nevýhodou je to, že vám bude vracet _byte_ objekt, který musíte přes funkci `decode` zpracovat."
   ]
  },
  {
   "cell_type": "code",
   "execution_count": null,
   "metadata": {},
   "outputs": [],
   "source": [
    "def load_logfile(f) -> dict:\n",
    "    \"\"\"Load a logfile from a file-like object and return a dict with the data.\"\"\"\n",
    "    data = {\n",
    "        \"conf\": None,\n",
    "        \"run\": None,\n",
    "        \"time\": np.nan\n",
    "    }\n",
    "\n",
    "    for line in f:\n",
    "        line = line.decode(\"utf-8\")\n",
    "        if 'status:' in line.lower():\n",
    "            continue\n",
    "        if 'configuration:' in line.lower():\n",
    "            data['conf'] = int(line.split(\":\")[1].strip().split('config')[1].strip())\n",
    "            continue\n",
    "        if 'time of run:' in line.lower():\n",
    "            data['time'] = float(line.split(\":\")[1].strip())\n",
    "            continue\n",
    "        if 'run:' in line.lower():\n",
    "            data['run'] = int(line.split(\":\")[1].strip())\n",
    "            continue\n",
    "    return data\n",
    "\n",
    "data = []\n",
    "with ZipFile(\"logfiles.zip\") as zf:\n",
    "    for filename in zf.namelist():\n",
    "        with zf.open(filename, \"r\") as f:\n",
    "            data.append(load_logfile(f))\n",
    "df = pd.DataFrame(data)\n",
    "df"
   ]
  },
  {
   "cell_type": "markdown",
   "metadata": {},
   "source": [
    "## Analýza a čištění dat\n",
    "Vhodným způsobem pro všechny konfigurace analyzujte časy běhů a pokud tam jsou, identifikujte hodnoty, které jsou chybné. "
   ]
  },
  {
   "cell_type": "code",
   "execution_count": null,
   "metadata": {},
   "outputs": [],
   "source": [
    "_df = df.copy()\n",
    "\n",
    "sns.set(rc={'figure.figsize':(12, 8.5)})\n",
    "fig = sns.boxplot(data=[_df.loc[_df['conf'] == confValue, 'time'].values for confValue in _df['conf'].unique()], \n",
    "                   orient='h', \n",
    "                   flierprops=dict(markerfacecolor='1'))\n",
    "fig.set(xlabel=\"Time\", ylabel=\"Conf\", title='Graf pro identifikace outlieru')\n",
    "plt.show()"
   ]
  },
  {
   "cell_type": "markdown",
   "metadata": {},
   "source": [
    "__OTÁZKA K DOPLNĚNÍ:__\n",
    "\n",
    "_Objevily se nějaké chybné hodnoty? Proč tam jsou s ohledem na to, že se jedná o běhy algoritmů?_\n",
    "\n",
    "Áno, v grafe sú zobrazené odchýlky (biele kosoštvorce). Tie mohli byť napríklad okrajové prípady, alebo neobvyklé správanie počas behu konfigurácie.\n",
    "\n",
    "Odchýlky môžu byť spôsobené aj chybami v procese zberu údajov, čo má vplyv na celkové rozdelenie. Okrem toho k prítomnosti odchýlok v súbore údajov môžu prispieť prirozdene náhodné prípady."
   ]
  },
  {
   "cell_type": "markdown",
   "metadata": {},
   "source": [
    "Vyčistěte dataframe `_df` tak, aby tam tyto hodnoty nebyly a ukažte znovu analýzu toho, že čištění dat bylo úspěšné. Odtud dále pracujte s vyčištěným datasetem."
   ]
  },
  {
   "cell_type": "code",
   "execution_count": null,
   "metadata": {},
   "outputs": [],
   "source": [
    "q1 = lambda x: x['time'].quantile(0.25)\n",
    "q3 = lambda x:  x['time'].quantile(0.75)\n",
    "iqr = lambda x: q3(x) - q1(x)\n",
    "lowerBound = lambda x: q1(x) - 1.5 * iqr(x)\n",
    "upperBound = lambda x: q3(x) + 1.5 * iqr(x)\n",
    "\n",
    "df = df.groupby('conf', group_keys=False).apply(lambda x: x[(x['time'] >= lowerBound(x)) & (x['time'] <= upperBound(x))])\n",
    "\n",
    "sns.set(rc={'figure.figsize':(10,8)})\n",
    "fig = sns.boxplot(data=df, x='time', y='conf', orient='h')\n",
    "fig.set(xlabel=\"Time\", ylabel=\"Conf\", title='Vycistena data')\n",
    "plt.show()"
   ]
  },
  {
   "cell_type": "markdown",
   "metadata": {},
   "source": [
    "## Deskriptivní popis hodnot\n",
    "Vypište pro jednotlivé konfigurace základní deskriptivní parametry času pro jednotlivé konfigurace.  \n",
    "\n",
    "__TIP__ pokud výsledky uložíte jako Pandas DataFrame, zobrazí se v tabulce."
   ]
  },
  {
   "cell_type": "code",
   "execution_count": null,
   "metadata": {},
   "outputs": [],
   "source": [
    "configurations = df.groupby('conf')['time']\n",
    "\n",
    "descriptiveParameters = configurations.describe().drop(columns=['count'])\n",
    "descriptiveParameters['meanGeometric'] = configurations.apply(stats.gmean)\n",
    "descriptiveParameters['median'] = configurations.apply(np.median)\n",
    "descriptiveParameters['variance'] = configurations.apply(np.var)\n",
    "descriptiveParameters['skewness'] = configurations.apply(stats.skew)\n",
    "descriptiveParameters['kurtosis'] = configurations.apply(stats.kurtosis)\n",
    "\n",
    "descriptiveParameters = descriptiveParameters[['mean', 'meanGeometric', 'median', 'std', 'variance', 'min', '25%', '50%', '75%', 'max', 'skewness', 'kurtosis']]\n",
    "descriptiveParameters"
   ]
  },
  {
   "cell_type": "markdown",
   "metadata": {},
   "source": [
    "__OTÁZKA K DOPLNĚNÍ:__\n",
    "\n",
    "_Okomentujte, co všechno můžeme z parametrů vyčíst._\n",
    "\n",
    "- Stredná hodnota udáva priemerný čas behu pre každú konfiguráciu\n",
    "- Medián a 50. percentil predstavujú strednú hodnotu, čo naznačuje, že polovica nameraných časov spadá pod túto hodnotu.\n",
    "- Štandardná odchýlka meria rozptyl časov okolo priemeru. Vyššie štandardné odchýlky znamenajú väčšiu variabilitu.\n",
    "- Rozptyl vyčísluje rozpätie údajov.\n",
    "- Minimálna a maximálna hodnota predstavujú najnižší, resp. najvyšší zistený čas behu.\n",
    "- Kvartily rozdeľujú údaje na štyri rovnaké časti.\n",
    "- Šikmosť naznačuje asymetriu údajov. Kladné hodnoty naznačujú dlhší chvost vpravo, zatiaľ čo záporné hodnoty naznačujú dlhší chvost vľavo."
   ]
  },
  {
   "cell_type": "markdown",
   "metadata": {},
   "source": [
    "## Vizualizace\n",
    "Vizualizujte časy běhů algoritmů v jednom kompaktním grafu tak, aby byl zřejmý i rozptyl hodnot. Zvolte vhodný graf, který pak níže komentujte."
   ]
  },
  {
   "cell_type": "code",
   "execution_count": null,
   "metadata": {},
   "outputs": [],
   "source": [
    "sns.set(rc={'figure.figsize':(10,8)})\n",
    "fig = sns.boxplot(data=df, x='time', y='conf', orient='h')\n",
    "fig.set(xlabel=\"Time\", ylabel=\"Conf\", title='Casy behu algoritmu')\n",
    "plt.show()"
   ]
  },
  {
   "cell_type": "markdown",
   "metadata": {},
   "source": [
    "__OTÁZKA K DOPLNĚNÍ:__\n",
    "\n",
    "_Okomentujte  výsledky z tabulky._\n",
    "\n",
    "- Najmenšiu minimálnu hodnotu má konfigurácia 4: $29.093401$ podľa deskriptívnej tabuľky.\n",
    "- Najväčšiu minimálnu hodnotu má konfigurácia 5.\n",
    "- Najmenší medián má konfigurácia 1: $99.799944$ podľa deskriptívnej tabuľky.\n",
    "- Najväčší rozptyl má konfigurácia 4: $935.117531$ podľa deskriptívnej tabuľky.\n",
    "- Naopak najmenší má konfigurácia 1: $78.206139$ podľa deskriptívnej tabuľky.\n",
    "\n",
    "Z grafu som vyčítal, že kandidátmi na najrýchlejšiu konfiguráciu sú konfigurácie s číslami 1 a 4."
   ]
  },
  {
   "cell_type": "markdown",
   "metadata": {},
   "source": [
    "## Určení efektivity konfigurací algoritmů\n",
    "Nás ale zajímá, jaká konfigurace je nejrychlejší. Z výše vykresleného grafu můžeme vyloučit některé konfigurace. Existuje tam však minimálně jedna dvojice, u které nedokážeme jednoznačně určit, která je lepší - pokud nebudeme porovnávat pouze extrémní hodnoty, které mohou být dané náhodou, ale celkově. Proto proveďte vhodný test významnosti - v následující části diskutujte zejména rozložení dat (i s odkazem na předchozí buňky, variabilitu vs polohu a podobně). Je nutné každý logický krok a výběry statistických funkcí komentovat. Můžete i přidat další buňky.\n",
    "\n",
    "Vužijte vhodnou funkci z knihovny `scipy.stats` a funkci poté __implementujte sami__ na základě základních matematických funkcí knihovny `numpy` případně i funkcí pro výpočet studentova rozložení v [scipy.stats](https://docs.scipy.org/doc/scipy/reference/generated/scipy.stats.t.html). Při vlastní implementaci není nutné se primárně soustředit na efektivitu výpočtu (není potřeba využít všechny funkce numpy, můžete použít normální cykly a podobně - v hodnocení však bude zahrnuta přehlednost a neměly by se objevit jasné chyby, jako je zvýšení třídy složitosti a podobně)."
   ]
  },
  {
   "cell_type": "markdown",
   "metadata": {},
   "source": [
    "__OTÁZKA K DOPLNĚNÍ:__\n",
    "\n",
    "_Jaká data budete zkoumat? Jaké mají rozložení a parametry (např. varianci) a jaký test použijete? Jaká je nulová hypotéza? Jak se liší variabilita a poloha vybraných konfigurací?_\n",
    "\n",
    "Budem skúmať časy behov algoritmov, konkrétne konfigurácie 1 a 4.\n",
    "\n",
    "Keďže sa jedná o porovnávanie dvoch rôznych konfigurácií za predpokladu, že ide o normálne rozdelenie použijem **t test**. Na základe nerovností variancií sa bude jednať o Welchov t test.\n",
    "\n",
    "Nulová hypotéza je: Medzi týmito dvoma konfiguráciami nie je významný rozdiel v čase behu.\n",
    "\n",
    "Keď porovnáme šírky rámčekov v grafe (IQR) pre konfigurácie 1 a 4 zistíme, že konfigurácia 1 má nižšiu variabilitu ako konfigurácia 4. Konfigurácia s užším rámčekom (menšie IQR) má menšiu variabilitu v porovnaní s konfiguráciami s širšími rámčekmi."
   ]
  },
  {
   "cell_type": "code",
   "execution_count": null,
   "metadata": {},
   "outputs": [],
   "source": [
    "# Hodnoty priemeru konfigurácií 1 a 4.\n",
    "# Potrebné pre určenie rýchlejšej konfigurácie, ak bude zamietnutá nulová hypotéza.\n",
    "meanConf1 = descriptiveParameters['mean'][1]\n",
    "meanConf4 = descriptiveParameters['mean'][4]\n",
    "\n",
    "# Hodnoty rozptylu pre konfigurácie 1 a 4.\n",
    "# Potrebné pre určenie parametra t testu.\n",
    "varianceConf1 = descriptiveParameters['variance'][1]\n",
    "varianceConf4 = descriptiveParameters['variance'][4]\n",
    "equalVariances = varianceConf1 == varianceConf4\n",
    "\n",
    "# Vykonanie dvojvýberového t testu medzi konfiguráciami 1 a 4,\n",
    "# ktorý berie v potaz rozdielne rozptyly na základe parametra 'equal_var'.\n",
    "statistic, p = stats.ttest_ind(df[df['conf'] == 1]['time'], df[df['conf'] == 4]['time'], equal_var=equalVariances)\n",
    "\n",
    "print(f't-statistika: {statistic}')\n",
    "print(f'rozdielny rozptyl: {not equalVariances}')\n",
    "print(f'p-hodnota: {p}')\n",
    "print(f'p < 0.05: {p < 0.05}')\n",
    "print(f'mensia stredna hodnota: conf{1 if min(meanConf1, meanConf4) == meanConf1 else 2}')"
   ]
  },
  {
   "cell_type": "markdown",
   "metadata": {},
   "source": [
    "__OTÁZKA K DOPLNĚNÍ:__\n",
    "\n",
    "_Jaký je závěr statistického testu?_\n",
    "\n",
    "Keďže p-hodnota testu je menšia ako $0.05$, časy behov týchto dvoch konfigurácií sa od seba významne **líšia**. To podporuje alternatívnu hypotézu, ktorá naznačuje, že jedna konfigurácia je rýchlejšia ako druhá.\n",
    "\n",
    "Stredná hodnota času behov pre konfiguráciu 1 je menšia ako pre konfiguráciu 2, teda konfigurácia 1 má v priemere kratší čas behu na základe zozbieraných údajov."
   ]
  },
  {
   "cell_type": "code",
   "execution_count": null,
   "metadata": {},
   "outputs": [],
   "source": [
    "# Súbory času behov pre konfigurácie 1 a 4.\n",
    "conf1Time = (df[df['conf'] == 1]['time']).to_numpy()\n",
    "conf2Time = (df[df['conf'] == 4]['time']).to_numpy()\n",
    "\n",
    "# Hodnoty priemeru konfigurácií 1 a 4.\n",
    "# Potrebné pre určenie rýchlejšej konfigurácie, ak bude zamietnutá nulová hypotéza.\n",
    "meanConf1 = descriptiveParameters['mean'][1]\n",
    "meanConf4 = descriptiveParameters['mean'][4]\n",
    "\n",
    "# Hodnoty rozptylu pre konfigurácie 1 a 4.\n",
    "# Potrebné pre určenie parametra t testu.\n",
    "varianceConf1 = descriptiveParameters['variance'][1]\n",
    "varianceConf4 = descriptiveParameters['variance'][4]\n",
    "equalVariances = varianceConf1 == varianceConf4\n",
    "\n",
    "# Výpočet štandardnej odchýlky (výpočet bol vykonaný pri deskriptívnej tabuľke).\n",
    "stdConf1 = descriptiveParameters['std'][1]\n",
    "stdConf4 = descriptiveParameters['std'][4]\n",
    "\n",
    "# Veľkosti vzoriek oboch konfigurácií.\n",
    "n1 = len(conf1Time)\n",
    "n2 = len(conf2Time)\n",
    "\n",
    "# Výpočet stupňa voľnosti pre pomocou Welchovej aproximácie.\n",
    "# df = ((std1**2/n1 + std2**2/n2)**2) / ((std1**2/n1)**2 / (n1 - 1) + (std2**2/n2)**2 / (n2 - 1))\n",
    "degsOfFreedom = ((stdConf1**2 / n1 + stdConf4**2 / n2)**2) / ((stdConf1**2 / n1)**2 / (n1 - 1) + (stdConf4**2 / n2)**2 / (n2 - 1))\n",
    "\n",
    "# Výpočet t-štatistiky pomocou vzorca pre dvojvýberový Welchov t-test.\n",
    "# t = (mean1 - mean2) / sqrt((std1**2/n1) + (std2**2/n2))\n",
    "tStatistic = (meanConf1 - meanConf4) / np.sqrt(stdConf1**2 / n1 + stdConf4**2 / n2)\n",
    "\n",
    "# Výpočet dvojvýberovej p-hodnoty pomocou t-rozdelenia a stupňov voľnosti.\n",
    "# p = 2 * (1 - cdf(abs(tsStatistic), df))\n",
    "# cdf predstavuje hodnotu kumulatívnej distribučnej funkcie t-rozdelenia na základe absolútnej hodnoty t-štatistiky.\n",
    "pValue = 2 * (1 - stats.t.cdf(np.abs(tStatistic), df=degsOfFreedom))\n",
    "\n",
    "print(f't-statistika: {tStatistic}')\n",
    "print(f'rozdielny rozptyl: {not equalVariances}')\n",
    "print(f'p-hodnota: {pValue}')\n",
    "print(f'p < 0.05: {pValue < 0.05}')\n",
    "print(f'mensia stredna hodnota: conf{1 if min(meanConf1, meanConf1) == meanConf1 else 2}')\n"
   ]
  }
 ],
 "metadata": {
  "kernelspec": {
   "display_name": "Python 3",
   "language": "python",
   "name": "python3"
  },
  "language_info": {
   "codemirror_mode": {
    "name": "ipython",
    "version": 3
   },
   "file_extension": ".py",
   "mimetype": "text/x-python",
   "name": "python",
   "nbconvert_exporter": "python",
   "pygments_lexer": "ipython3",
   "version": "3.11.0"
  },
  "orig_nbformat": 4
 },
 "nbformat": 4,
 "nbformat_minor": 2
}
